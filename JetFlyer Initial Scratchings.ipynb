{
 "cells": [
  {
   "cell_type": "code",
   "execution_count": 42,
   "metadata": {
    "collapsed": false
   },
   "outputs": [],
   "source": [
    "#Units in KG\n",
    "class jet:\n",
    "    def __init__(self, n):\n",
    "        #http://www.chiefaircraft.com/jc-p180-rxi.html\n",
    "        self.n = n\n",
    "        self.thrust = 40*0.453592;#lbs*1/kg\n",
    "        self.weight = 3.5*0.453592;#lbs*1/kg\n",
    "        self.fuel_rate = 610;#ml/min, full load.\n",
    "        self.price = 3150; #Lol. Won't need this.\n",
    "        self.fuel_type = [\"Jet A1\", \"Kerosene\"]\n",
    "        self.fuel_density = 840/1000000 #Jet A1 fuel\n",
    "        self.throttle = 1\n",
    "    def get_thrust(self):\n",
    "        return self.n*self.throttle*self.thrust;\n",
    "    def fuel_consum(self,sec):\n",
    "        return self.n*self.throttle*self.fuel_rate/60*sec*self.fuel_density; #Amount burned Kg/Sec\n",
    "    def get_weight(self):\n",
    "        return self.weight\n",
    "    \n",
    "class payload:\n",
    "    def __init__(self, weight):\n",
    "        self.weight = weight\n",
    "    def get_weight(self):\n",
    "        return self.weight\n",
    "    \n",
    "    \n",
    "class wing:\n",
    "    def __init__(self, weight):\n",
    "        self.weight = weight\n",
    "    def get_weight(self):\n",
    "        return self.weight\n",
    "    def thrust(self):\n",
    "        return lift\n",
    "    \n",
    "class flyer:\n",
    "    def __init__(self, num_jets, weight_fuel):\n",
    "        self.j = jet(num_jets)\n",
    "        self.person = payload(90)\n",
    "        self.w = wing(50)\n",
    "        self.fuel = weight_fuel\n",
    "        self.throttle = 1\n",
    "    def get_weight(self):\n",
    "        return self.j.get_weight() + self.w.get_weight() + self.person.get_weight() + self.fuel\n",
    "    def get_thrust(self):\n",
    "        return self.j.get_thrust()\n",
    "    \n",
    "    def fuel_used(self):\n",
    "        return self.j.fuel_consum(1)\n",
    "    \n",
    "    def set_throttle(throt):\n",
    "        self.throttle = throt\n",
    "    def status(self):\n",
    "        print(\"Weight: \" + str(self.get_weight() ))\n",
    "        print(\"Surplus Throttle: \" + str( self.get_weight()/ self.get_thrust()) )\n",
    "        print(\"Flight Time (Linear): \" + str(self.fuel/self.fuel_used() ))"
   ]
  },
  {
   "cell_type": "code",
   "execution_count": 46,
   "metadata": {
    "collapsed": false
   },
   "outputs": [
    {
     "name": "stdout",
     "output_type": "stream",
     "text": [
      "Weight: 186.587572\n",
      "Surplus Throttle: 1.028388794334997\n",
      "Flight Time (Linear): 526.9320843091334\n"
     ]
    },
    {
     "data": {
      "text/plain": [
       "0.0854"
      ]
     },
     "execution_count": 46,
     "metadata": {},
     "output_type": "execute_result"
    }
   ],
   "source": [
    "f = flyer(10, 45)\n",
    "f.status()\n",
    "f.fuel_used()"
   ]
  },
  {
   "cell_type": "code",
   "execution_count": null,
   "metadata": {
    "collapsed": true
   },
   "outputs": [],
   "source": [
    "#References:\n",
    "https://en.wikipedia.org/wiki/Thrust_vectoring\n",
    "https://en.wikipedia.org/wiki/Tiltjet\n",
    "https://en.wikipedia.org/wiki/Stewart_platform\n",
    "    http://mechanismsrobotics.asmedigitalcollection.asme.org/article.aspx?articleid=1876666\n",
    "        A Novel Five-Degree-of-Freedom Parallel Manipulator and Its Kinematic Optimization\n",
    "http://www.professeurs.polymtl.ca/luc.baron/index.php?id=365&lg=a\n",
    "    "
   ]
  }
 ],
 "metadata": {
  "anaconda-cloud": {},
  "kernelspec": {
   "display_name": "Python [default]",
   "language": "python",
   "name": "python3"
  },
  "language_info": {
   "codemirror_mode": {
    "name": "ipython",
    "version": 3
   },
   "file_extension": ".py",
   "mimetype": "text/x-python",
   "name": "python",
   "nbconvert_exporter": "python",
   "pygments_lexer": "ipython3",
   "version": "3.5.2"
  }
 },
 "nbformat": 4,
 "nbformat_minor": 2
}
