{
 "cells": [
  {
   "cell_type": "code",
   "execution_count": 4,
   "metadata": {
    "collapsed": false
   },
   "outputs": [],
   "source": [
    "class jet:\n",
    "    def __init__(self):\n",
    "        #http://www.chiefaircraft.com/jc-p180-rxi.html\n",
    "        self.thrust = 40;#lbs\n",
    "        self.weight = 3.5;#lbs\n",
    "        self.fuel_rate = 610;#ml/min, full load.\n",
    "        self.price = 3150; #Lol. Won't need this.\n",
    "        self.fuel_type = [\"Jet A1\", \"Kerosene\"]\n",
    "    def thrust(self):\n",
    "        return self.thrust;\n",
    "    def fuel_consum(self,sec):\n",
    "        return self.fuel_rate/60*sec;\n",
    "    \n",
    "class wing:\n",
    "    def __init__(self):\n",
    "        #self.weight = \n",
    "    "
   ]
  },
  {
   "cell_type": "code",
   "execution_count": null,
   "metadata": {
    "collapsed": true
   },
   "outputs": [],
   "source": [
    "#References:\n",
    "https://en.wikipedia.org/wiki/Thrust_vectoring\n",
    "https://en.wikipedia.org/wiki/Tiltjet\n",
    "https://en.wikipedia.org/wiki/Stewart_platform\n",
    "    http://mechanismsrobotics.asmedigitalcollection.asme.org/article.aspx?articleid=1876666\n",
    "        A Novel Five-Degree-of-Freedom Parallel Manipulator and Its Kinematic Optimization\n",
    "http://www.professeurs.polymtl.ca/luc.baron/index.php?id=365&lg=a\n",
    "    "
   ]
  }
 ],
 "metadata": {
  "anaconda-cloud": {},
  "kernelspec": {
   "display_name": "Python [default]",
   "language": "python",
   "name": "python3"
  },
  "language_info": {
   "codemirror_mode": {
    "name": "ipython",
    "version": 3
   },
   "file_extension": ".py",
   "mimetype": "text/x-python",
   "name": "python",
   "nbconvert_exporter": "python",
   "pygments_lexer": "ipython3",
   "version": "3.5.2"
  }
 },
 "nbformat": 4,
 "nbformat_minor": 2
}
