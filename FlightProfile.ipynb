{
 "cells": [
  {
   "cell_type": "code",
   "execution_count": 56,
   "metadata": {
    "collapsed": false
   },
   "outputs": [
    {
     "name": "stdout",
     "output_type": "stream",
     "text": [
      "Using matplotlib backend: Qt4Agg\n"
     ]
    }
   ],
   "source": [
    "%matplotlib\n",
    "import plotly.plotly\n",
    "import plotly.graph_objs as go\n",
    "import math\n",
    "import numpy as np\n",
    "import plotly.plotly as py\n",
    "py.sign_in('Jhillard', 'jTaxcdWM5zm8DNUR7WpE')\n",
    "#plotly.offline.init_notebook_mode()\n",
    "\n",
    "#Start with Thermal\n",
    "#Shot\n",
    "#Just the 4ktb.\n"
   ]
  },
  {
   "cell_type": "code",
   "execution_count": 95,
   "metadata": {
    "collapsed": false
   },
   "outputs": [],
   "source": [
    "class jet():\n",
    "    def __init__(self):\n",
    "            num_motors=3\n",
    "            self.decel_height = 15\n",
    "            \n",
    "            self.firing = False;\n",
    "            #http://www.thrustcurve.org/motorsearch.jsp?id=704\n",
    "            self.total_impulse=474.9*num_motors\n",
    "            self.burn_time=1.1\n",
    "            self.start_time = -1\n",
    "            self.total_weight = 0.575*num_motors\n",
    "            self.prop_weight = 0.213*num_motors\n",
    "            self.curr_weight = 0.575*num_motors\n",
    "            \n",
    "            \n",
    "            #http://www.thrustcurve.org/motorsearch.jsp?id=201\n",
    "            #Cesaroni I287\n",
    "            self.total_impulse=486*num_motors\n",
    "            self.burn_time=1.7\n",
    "            self.start_time = -1\n",
    "            self.total_weight = 0.605*num_motors\n",
    "            self.prop_weight = 0.331*num_motors\n",
    "            self.curr_weight = 0.605*num_motors\n",
    "            \n",
    "            #http://www.thrustcurve.org/motorsearch.jsp?id=1046\n",
    "            #Cesaroni J94. I can't buy these yet\n",
    "            self.total_impulse=644*num_motors\n",
    "            self.burn_time=6.8\n",
    "            self.start_time = -1\n",
    "            self.total_weight = 0.660*num_motors\n",
    "            self.prop_weight = 0.373*num_motors\n",
    "            self.curr_weight = 0.660*num_motors\n",
    "            \n",
    "            #http://www.thrustcurve.org/motorsearch.jsp?id=598\n",
    "            #KBA J520\n",
    "            self.total_impulse=645.9*num_motors\n",
    "            self.burn_time=1.2\n",
    "            self.start_time = -1\n",
    "            self.total_weight = 0.722*num_motors\n",
    "            self.prop_weight = 0.327*num_motors\n",
    "            self.curr_weight = 0.722*num_motors\n",
    "            \n",
    "            \n",
    "    def step(self,curr_alt, curr_time):\n",
    "        #print(self.firing)\n",
    "        #print(curr_alt)\n",
    "        #print(self.decel_height)\n",
    "        if((not self.firing) and (curr_alt<self.decel_height)):\n",
    "            self.firing = True\n",
    "            self.start_time = curr_time\n",
    "            print(\"Rocket Ignition is Good.\")\n",
    "        if((self.firing) and (self.start_time+self.burn_time>curr_time)):\n",
    "            time_on = curr_time-self.start_time;\n",
    "            thrust = self.total_impulse/self.burn_time\n",
    "            self.curr_weight = self.total_weight-self.prop_weight+self.prop_weight*(self.burn_time-time_on)\n",
    "        else:\n",
    "            thrust=0;\n",
    "            \n",
    "        return (thrust, self.curr_weight)\n",
    "    "
   ]
  },
  {
   "cell_type": "code",
   "execution_count": 100,
   "metadata": {
    "collapsed": false,
    "scrolled": true
   },
   "outputs": [
    {
     "name": "stdout",
     "output_type": "stream",
     "text": [
      "Rocket Ignition is Good.\n",
      "Simulation Complete\n"
     ]
    }
   ],
   "source": [
    "import numpy as np\n",
    "v_pred = 60 #m/s\n",
    "height = 10E3 #m flight height\n",
    "decel_height = 100 #height at rocket burn.\n",
    "I= rocket()\n",
    "payload_mass = 50 #kg\n",
    "g = 9.8\n",
    "\n",
    "\n",
    "#http://versadrones.com/products/heavy-lift-octocopter/\n",
    "drone_mass = 4 #kg\n",
    "drone_thrust = 120 #Newtons. ~12kg at a=9.8 This is an underestimate of max thrust by a lot, this is purely the payload value.\n",
    "drone_thrust = 0\n",
    "\n",
    "\n",
    "#http://www.lmnoeng.com/Force/DragForce.php\n",
    "#Modelled as a square rectangle falling from the sky.\n",
    "C = 1.05\n",
    "p = 1.204\n",
    "A = 1 #1 m**2\n",
    "\n",
    "curr_alt = height\n",
    "\n",
    "sample_size = 10000\n",
    "time_span = 60*10\n",
    "dt = time_span/sample_size\n",
    "\n",
    "f_tot = [0]\n",
    "mass_tot = [drone_mass+payload_mass]\n",
    "v = [0]\n",
    "alt = [height]\n",
    "\n",
    "time = np.linspace(0,time_span,sample_size)\n",
    "for t in  time:\n",
    "    (f_rock, mass_rock) = I.step(alt[-1], t)\n",
    "    mass_tot.append(payload_mass+drone_mass+mass_rock)\n",
    "    curr_vel = v[-1]\n",
    "    force_dt = -mass_tot[-1]*g +  0.5*(C*p*A)*curr_vel**2*np.sign(-curr_vel) + f_rock + drone_thrust\n",
    "    f_tot.append(force_dt)\n",
    "    a = f_tot[-1]/mass_tot[-1]\n",
    "    \n",
    "    #=\n",
    "    ##print(a)\n",
    "    #print(f_tot[-1])\n",
    "    #print(curr_vel)\n",
    "    #print(alt[-1])\n",
    "    #print(\"========\")\n",
    "    #\n",
    "    \n",
    "    alt_temp = (alt[-1] + v[-1]*dt)\n",
    "    if(alt_temp < 0):\n",
    "        alt.append(0)\n",
    "        v.append(0)\n",
    "    else:\n",
    "        v.append(v[-1] + a*dt)\n",
    "        alt.append(alt_temp)\n",
    "    \n",
    "time = time = np.linspace(0,time_span,sample_size+1)\n",
    "h_prime = np.array(alt)\n",
    "f_prime = np.array(f_tot)\n",
    "v_prime = np.array(v)\n",
    "m_prime = np.array(mass_tot)\n",
    "print(\"Simulation Complete\")    "
   ]
  },
  {
   "cell_type": "code",
   "execution_count": 101,
   "metadata": {
    "collapsed": false
   },
   "outputs": [
    {
     "name": "stdout",
     "output_type": "stream",
     "text": [
      "The draw time for this plot will be slow for clients without much RAM.\n"
     ]
    },
    {
     "name": "stderr",
     "output_type": "stream",
     "text": [
      "/home/jake/anaconda3/lib/python3.4/site-packages/plotly/plotly/plotly.py:1441: UserWarning:\n",
      "\n",
      "Estimated Draw Time Slow\n",
      "\n"
     ]
    },
    {
     "data": {
      "text/html": [
       "<iframe id=\"igraph\" scrolling=\"no\" style=\"border:none;\" seamless=\"seamless\" src=\"https://plot.ly/~Jhillard/14.embed\" height=\"525px\" width=\"100%\"></iframe>"
      ],
      "text/plain": [
       "<plotly.tools.PlotlyDisplay object>"
      ]
     },
     "execution_count": 101,
     "metadata": {},
     "output_type": "execute_result"
    }
   ],
   "source": [
    "data =[]\n",
    "trace = go.Scatter(\n",
    "    x = time,\n",
    "    y = f_prime\n",
    ")\n",
    "data.append(trace)\n",
    "trace = go.Scatter(\n",
    "    x = time,\n",
    "    y = h_prime\n",
    ")\n",
    "data.append(trace)\n",
    "trace = go.Scatter(\n",
    "    x = time,\n",
    "    y = v_prime\n",
    ")\n",
    "data.append(trace)\n",
    "trace = go.Scatter(\n",
    "    x = time,\n",
    "    y = m_prime\n",
    ")\n",
    "data.append(trace)\n",
    "\n",
    "\n",
    "\n",
    "\n",
    "\n",
    "\n",
    "# Plot and embed in ipython notebook!\n",
    "py.iplot(data, filename='basic-line')\n"
   ]
  },
  {
   "cell_type": "code",
   "execution_count": null,
   "metadata": {
    "collapsed": true
   },
   "outputs": [],
   "source": []
  },
  {
   "cell_type": "code",
   "execution_count": null,
   "metadata": {
    "collapsed": true
   },
   "outputs": [],
   "source": []
  },
  {
   "cell_type": "code",
   "execution_count": null,
   "metadata": {
    "collapsed": true
   },
   "outputs": [],
   "source": []
  },
  {
   "cell_type": "code",
   "execution_count": null,
   "metadata": {
    "collapsed": true
   },
   "outputs": [],
   "source": []
  },
  {
   "cell_type": "code",
   "execution_count": 16,
   "metadata": {
    "collapsed": false
   },
   "outputs": [
    {
     "data": {
      "text/plain": [
       "[<matplotlib.lines.Line2D at 0x7f1d40b41fd0>]"
      ]
     },
     "execution_count": 16,
     "metadata": {},
     "output_type": "execute_result"
    },
    {
     "data": {
      "image/png": "[encoded data removed]",
      "text/plain": [
       "<matplotlib.figure.Figure at 0x7f1d40dab160>"
      ]
     },
     "metadata": {},
     "output_type": "display_data"
    }
   ],
   "source": [
    "import matplotlib\n",
    "import matplotlib.pyplot as plt\n",
    "%matplotlib inline \n",
    "#plt.plot(time*time_span, h_prime)\n",
    "#plt.plot(time*time_span, f_prime)\n",
    "#plt.plot(time*time_span, v_prime)\n",
    "#plt.plot((time*time_span)[1:-1], v_prime[1:-1]-v_prime[0:-2])\n"
   ]
  },
  {
   "cell_type": "code",
   "execution_count": null,
   "metadata": {
    "collapsed": true
   },
   "outputs": [],
   "source": []
  }
 ],
 "metadata": {
  "anaconda-cloud": {},
  "kernelspec": {
   "display_name": "Python [default]",
   "language": "python",
   "name": "python3"
  },
  "language_info": {
   "codemirror_mode": {
    "name": "ipython",
    "version": 3
   },
   "file_extension": ".py",
   "mimetype": "text/x-python",
   "name": "python",
   "nbconvert_exporter": "python",
   "pygments_lexer": "ipython3",
   "version": "3.5.2"
  }
 },
 "nbformat": 4,
 "nbformat_minor": 0
}
